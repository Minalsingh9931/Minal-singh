{
 "cells": [
  {
   "cell_type": "code",
   "execution_count": 2,
   "id": "8677c0e3-4278-4b62-b11c-a91a32852f6c",
   "metadata": {},
   "outputs": [],
   "source": [
    "#Q1. Create one variable containing following type of data:\n",
    " #(i) string\n",
    "#(ii) list\n",
    "#(iii) float\n",
    "#(iv) tuple"
   ]
  },
  {
   "cell_type": "code",
   "execution_count": 1,
   "id": "b53a0746-c5e5-4d1a-b64e-878258c0bf0e",
   "metadata": {},
   "outputs": [],
   "source": [
    "#(i) String"
   ]
  },
  {
   "cell_type": "code",
   "execution_count": 2,
   "id": "1e4a7375-7cb4-436c-9e79-a54b327645bc",
   "metadata": {},
   "outputs": [],
   "source": [
    "My_String = (\"Hello PW Skills\")"
   ]
  },
  {
   "cell_type": "code",
   "execution_count": 3,
   "id": "cdfb96b6-0cd6-4bf7-a6b9-17902db5557f",
   "metadata": {},
   "outputs": [
    {
     "data": {
      "text/plain": [
       "'Hello PW Skills'"
      ]
     },
     "execution_count": 3,
     "metadata": {},
     "output_type": "execute_result"
    }
   ],
   "source": [
    "My_String"
   ]
  },
  {
   "cell_type": "code",
   "execution_count": 4,
   "id": "bde0aaca-427a-48f5-8b0f-2fef2cde7e99",
   "metadata": {},
   "outputs": [],
   "source": [
    "#(ii)list"
   ]
  },
  {
   "cell_type": "code",
   "execution_count": 5,
   "id": "112fb326-9951-49fd-ab0f-52d4cb993b70",
   "metadata": {},
   "outputs": [],
   "source": [
    "My_List=[1,2,3,34.56,True]"
   ]
  },
  {
   "cell_type": "code",
   "execution_count": 6,
   "id": "dc0bf2a5-506c-4beb-b7d6-c884a2138516",
   "metadata": {},
   "outputs": [
    {
     "data": {
      "text/plain": [
       "[1, 2, 3, 34.56, True]"
      ]
     },
     "execution_count": 6,
     "metadata": {},
     "output_type": "execute_result"
    }
   ],
   "source": [
    "My_List"
   ]
  },
  {
   "cell_type": "code",
   "execution_count": 7,
   "id": "25800fd0-e80f-4947-97e3-872fe2adcd24",
   "metadata": {},
   "outputs": [],
   "source": [
    "#(iii) Float"
   ]
  },
  {
   "cell_type": "code",
   "execution_count": 8,
   "id": "2fce03da-9a32-42ed-b73e-fe020fd38e78",
   "metadata": {},
   "outputs": [],
   "source": [
    "My_float = (34.56)"
   ]
  },
  {
   "cell_type": "code",
   "execution_count": 9,
   "id": "bb6cf1b2-486c-4be1-8fb7-d809eea13891",
   "metadata": {},
   "outputs": [
    {
     "data": {
      "text/plain": [
       "34.56"
      ]
     },
     "execution_count": 9,
     "metadata": {},
     "output_type": "execute_result"
    }
   ],
   "source": [
    "My_float"
   ]
  },
  {
   "cell_type": "code",
   "execution_count": 10,
   "id": "863d0554-7d4d-408d-97d3-b7aac7ef055b",
   "metadata": {},
   "outputs": [],
   "source": [
    "# (iv) tuple"
   ]
  },
  {
   "cell_type": "code",
   "execution_count": 11,
   "id": "9b3ece32-9779-44de-9115-d94672a71fc9",
   "metadata": {},
   "outputs": [],
   "source": [
    "My_Tuple  =(1,2,3,34.56, True)"
   ]
  },
  {
   "cell_type": "code",
   "execution_count": 12,
   "id": "b392ab43-1892-479a-814a-d970d7507541",
   "metadata": {},
   "outputs": [
    {
     "data": {
      "text/plain": [
       "(1, 2, 3, 34.56, True)"
      ]
     },
     "execution_count": 12,
     "metadata": {},
     "output_type": "execute_result"
    }
   ],
   "source": [
    "My_Tuple"
   ]
  },
  {
   "cell_type": "code",
   "execution_count": 13,
   "id": "ca5b3429-ce09-46e8-8294-abae05467f74",
   "metadata": {},
   "outputs": [],
   "source": [
    "#Q2. Given are some following variables containing data:\n",
    "#(i) var1 = ‘ ‘\n",
    "#(ii) var2 = ‘[ DS , ML , Python]’\n",
    "#(iii) var3 = [ ‘DS’ , ’ML’ , ‘Python’ ]\n",
    "#(iv) var4 = 1.\n",
    "#What will be the data type of the above given variable."
   ]
  },
  {
   "cell_type": "code",
   "execution_count": 14,
   "id": "14dca57b-6bd9-4164-b097-1fa7fef03f1f",
   "metadata": {},
   "outputs": [],
   "source": [
    " var1 = ' '"
   ]
  },
  {
   "cell_type": "code",
   "execution_count": 15,
   "id": "5b8fad50-366e-435b-909d-41e0100f8e47",
   "metadata": {},
   "outputs": [
    {
     "data": {
      "text/plain": [
       "str"
      ]
     },
     "execution_count": 15,
     "metadata": {},
     "output_type": "execute_result"
    }
   ],
   "source": [
    "type( var1)"
   ]
  },
  {
   "cell_type": "code",
   "execution_count": 16,
   "id": "bc204436-8d6a-4177-8067-4e6371ab0c5a",
   "metadata": {},
   "outputs": [
    {
     "data": {
      "text/plain": [
       "' '"
      ]
     },
     "execution_count": 16,
     "metadata": {},
     "output_type": "execute_result"
    }
   ],
   "source": [
    "var1"
   ]
  },
  {
   "cell_type": "code",
   "execution_count": 17,
   "id": "6d072148-4e4a-40f4-a451-086f6b872a18",
   "metadata": {},
   "outputs": [],
   "source": [
    "var2 = '[ DS , ML , Python]'"
   ]
  },
  {
   "cell_type": "code",
   "execution_count": 18,
   "id": "2ba9f9e1-ce65-4325-8332-8e43f54b13f6",
   "metadata": {},
   "outputs": [
    {
     "data": {
      "text/plain": [
       "str"
      ]
     },
     "execution_count": 18,
     "metadata": {},
     "output_type": "execute_result"
    }
   ],
   "source": [
    "type(var2)"
   ]
  },
  {
   "cell_type": "code",
   "execution_count": 19,
   "id": "c86fde08-7a90-4fcb-b001-389a0e8f7852",
   "metadata": {},
   "outputs": [],
   "source": [
    "# it is consider as string data type because it is still  enclosed within single quotes"
   ]
  },
  {
   "cell_type": "code",
   "execution_count": 20,
   "id": "2bc12c95-fd64-4f10-b13a-a24599b1715c",
   "metadata": {},
   "outputs": [],
   "source": [
    "var3 = [ 'DS' , 'ML' , 'Python' ]"
   ]
  },
  {
   "cell_type": "code",
   "execution_count": 21,
   "id": "f16670ff-5759-4924-8523-5226df4e4fc7",
   "metadata": {},
   "outputs": [
    {
     "data": {
      "text/plain": [
       "list"
      ]
     },
     "execution_count": 21,
     "metadata": {},
     "output_type": "execute_result"
    }
   ],
   "source": [
    "type(var3)"
   ]
  },
  {
   "cell_type": "code",
   "execution_count": 22,
   "id": "0b80c222-696a-4343-9268-69ec14d1ce66",
   "metadata": {},
   "outputs": [],
   "source": [
    " var4 = 1."
   ]
  },
  {
   "cell_type": "code",
   "execution_count": 23,
   "id": "e63f943a-8241-42d4-a7f5-f141d7ae5708",
   "metadata": {},
   "outputs": [
    {
     "data": {
      "text/plain": [
       "float"
      ]
     },
     "execution_count": 23,
     "metadata": {},
     "output_type": "execute_result"
    }
   ],
   "source": [
    "type( var4)"
   ]
  },
  {
   "cell_type": "code",
   "execution_count": 24,
   "id": "c05d0f37-1471-4807-a484-20fb3a4b3f9a",
   "metadata": {},
   "outputs": [],
   "source": [
    "#Q3. Explain the use of the following operators using an example:\n",
    "#(i) /\n",
    "#(ii) %\n",
    "#(iii) //\n",
    "#(iv) **"
   ]
  },
  {
   "cell_type": "code",
   "execution_count": 25,
   "id": "7642d6da-163e-4ae4-9f9d-3a3f3009ca7b",
   "metadata": {},
   "outputs": [],
   "source": [
    "#(i) / (Division Operator):\n",
    "\n",
    "#The / operator is used for division, and it returns the quotient of dividing the first operand by the second."
   ]
  },
  {
   "cell_type": "code",
   "execution_count": 26,
   "id": "45d94aea-e0ae-460f-a72b-c4403dfdcb9b",
   "metadata": {},
   "outputs": [],
   "source": [
    " a= 10 / 3"
   ]
  },
  {
   "cell_type": "code",
   "execution_count": 27,
   "id": "75af0e60-541c-49bc-a72c-7a3f114b71fe",
   "metadata": {},
   "outputs": [
    {
     "name": "stdout",
     "output_type": "stream",
     "text": [
      "3.3333333333333335\n"
     ]
    }
   ],
   "source": [
    "print(a)"
   ]
  },
  {
   "cell_type": "code",
   "execution_count": 28,
   "id": "1a91048b-9600-41aa-a7cc-e88f6d485eb9",
   "metadata": {},
   "outputs": [],
   "source": [
    "#(ii) % (Modulus Operator):\n",
    "\n",
    "#The % operator returns the remainder of the division of the first operand by the second."
   ]
  },
  {
   "cell_type": "code",
   "execution_count": 29,
   "id": "96f57829-db7a-4dd4-83f8-00958ebc154e",
   "metadata": {},
   "outputs": [],
   "source": [
    "b=  10 % 3"
   ]
  },
  {
   "cell_type": "code",
   "execution_count": 30,
   "id": "c5a36a69-4dfb-47e8-8a8e-5b223e98fabe",
   "metadata": {},
   "outputs": [
    {
     "name": "stdout",
     "output_type": "stream",
     "text": [
      "1\n"
     ]
    }
   ],
   "source": [
    "print(b)"
   ]
  },
  {
   "cell_type": "code",
   "execution_count": 31,
   "id": "b857436d-1665-4610-a814-2b1736f1e675",
   "metadata": {},
   "outputs": [],
   "source": [
    "#(iii) // (Floor Division Operator):\n",
    "\n",
    "#The // operator is used for floor division. It returns the largest integer less than or equal to the quotient of the division."
   ]
  },
  {
   "cell_type": "code",
   "execution_count": 32,
   "id": "27a84943-f9cd-4c5b-9d81-507db19f261c",
   "metadata": {},
   "outputs": [
    {
     "name": "stdout",
     "output_type": "stream",
     "text": [
      "3\n"
     ]
    }
   ],
   "source": [
    "c=10 // 3\n",
    "print(c)  "
   ]
  },
  {
   "cell_type": "code",
   "execution_count": 33,
   "id": "3dc745f1-5f1a-458f-b001-8cd60873fde2",
   "metadata": {},
   "outputs": [],
   "source": [
    "#(iv) ** (Exponentiation Operator):\n",
    "\n",
    "#The ** operator raises the first operand to the power of the second operand."
   ]
  },
  {
   "cell_type": "code",
   "execution_count": 34,
   "id": "4c791a6c-e7a1-4b2c-8373-f91bf2b026da",
   "metadata": {},
   "outputs": [
    {
     "name": "stdout",
     "output_type": "stream",
     "text": [
      "8\n"
     ]
    }
   ],
   "source": [
    "d = 2 ** 3\n",
    "print(d) "
   ]
  },
  {
   "cell_type": "code",
   "execution_count": 35,
   "id": "722ee9a3-d3eb-4a99-9a99-2870578544fe",
   "metadata": {},
   "outputs": [],
   "source": [
    "#Q4. Create a list of length 10 of your choice containing multiple types of data. Using for loop print the element and its data type."
   ]
  },
  {
   "cell_type": "code",
   "execution_count": 36,
   "id": "fbcdb69b-bc90-41bb-90fc-cb6d5d812425",
   "metadata": {},
   "outputs": [
    {
     "name": "stdout",
     "output_type": "stream",
     "text": [
      "Element: 10, Data Type: <class 'int'>\n",
      "Element: Hello, Data Type: <class 'str'>\n",
      "Element: 3.14, Data Type: <class 'float'>\n",
      "Element: True, Data Type: <class 'bool'>\n",
      "Element: [1, 2, 3], Data Type: <class 'list'>\n",
      "Element: {'a': 1, 'b': 2}, Data Type: <class 'dict'>\n",
      "Element: (4, 5, 6), Data Type: <class 'tuple'>\n",
      "Element: None, Data Type: <class 'NoneType'>\n",
      "Element: False, Data Type: <class 'bool'>\n",
      "Element: World, Data Type: <class 'str'>\n"
     ]
    }
   ],
   "source": [
    "my_list = [10, \"Hello\", 3.14, True, [1, 2, 3], {'a': 1, 'b': 2}, (4, 5, 6), None, False, \"World\"]\n",
    "\n",
    "for element in my_list:\n",
    "    print(f\"Element: {element}, Data Type: {type(element)}\")"
   ]
  },
  {
   "cell_type": "code",
   "execution_count": 37,
   "id": "ba726af0-3857-41d6-b44a-e6203404c132",
   "metadata": {},
   "outputs": [
    {
     "name": "stdout",
     "output_type": "stream",
     "text": [
      "10\n",
      "Hello\n",
      "3.14\n",
      "True\n",
      "[1, 2, 3]\n",
      "{'a': 1, 'b': 2}\n",
      "(4, 5, 6)\n",
      "None\n",
      "False\n",
      "World\n",
      "<class 'int'>\n",
      "<class 'str'>\n",
      "<class 'float'>\n",
      "<class 'bool'>\n",
      "<class 'list'>\n",
      "<class 'dict'>\n",
      "<class 'tuple'>\n",
      "<class 'NoneType'>\n",
      "<class 'bool'>\n",
      "<class 'str'>\n"
     ]
    }
   ],
   "source": [
    "for element in my_list:\n",
    "    print(element)\n",
    "for  i in my_list:\n",
    "    print(type(i))"
   ]
  },
  {
   "cell_type": "code",
   "execution_count": null,
   "id": "7c504c3b-debf-424e-8e5c-28ade0d96126",
   "metadata": {},
   "outputs": [],
   "source": [
    "# Q6.Q6. Create a list containing 25 int type data. Using for loop and if-else condition print if the element is\n",
    "#divisible by 3 or not.\n"
   ]
  },
  {
   "cell_type": "code",
   "execution_count": 3,
   "id": "e6bc2cc6-d697-436a-afe8-4a5c00436dd7",
   "metadata": {},
   "outputs": [],
   "source": [
    "data_list = [5, 12, 9, 7, 18, 22, 15, 30, 4, 6, 11, 21, 14, 27, 33, 8, 10, 25, 36, 20, 3, 16, 24, 13, 19]"
   ]
  },
  {
   "cell_type": "code",
   "execution_count": 4,
   "id": "6c3e5972-dd99-4173-b910-48682857fdb6",
   "metadata": {},
   "outputs": [
    {
     "name": "stdout",
     "output_type": "stream",
     "text": [
      "5 is not divisible by 3\n",
      "12 is divisible by 3\n",
      "9 is divisible by 3\n",
      "7 is not divisible by 3\n",
      "18 is divisible by 3\n",
      "22 is not divisible by 3\n",
      "15 is divisible by 3\n",
      "30 is divisible by 3\n",
      "4 is not divisible by 3\n",
      "6 is divisible by 3\n",
      "11 is not divisible by 3\n",
      "21 is divisible by 3\n",
      "14 is not divisible by 3\n",
      "27 is divisible by 3\n",
      "33 is divisible by 3\n",
      "8 is not divisible by 3\n",
      "10 is not divisible by 3\n",
      "25 is not divisible by 3\n",
      "36 is divisible by 3\n",
      "20 is not divisible by 3\n",
      "3 is divisible by 3\n",
      "16 is not divisible by 3\n",
      "24 is divisible by 3\n",
      "13 is not divisible by 3\n",
      "19 is not divisible by 3\n"
     ]
    }
   ],
   "source": [
    "for num in data_list:\n",
    "    if num % 3 == 0:\n",
    "        print(f\"{num} is divisible by 3\")\n",
    "    else:\n",
    "        print(f\"{num} is not divisible by 3\")"
   ]
  },
  {
   "cell_type": "code",
   "execution_count": 5,
   "id": "9459ff8e-3292-4723-9858-1b0c1d66a69f",
   "metadata": {},
   "outputs": [],
   "source": [
    "#Q7. What do you understand about mutable and immutable data types? Give examples for both showing\n",
    "#this property."
   ]
  },
  {
   "cell_type": "code",
   "execution_count": 6,
   "id": "49ca212f-b532-404b-a216-efb62c3a0296",
   "metadata": {},
   "outputs": [],
   "source": [
    "# in the list we are allowed to mutate in a particular indexes whereas in string you are not allowed to mutate under a particular indexes"
   ]
  },
  {
   "cell_type": "code",
   "execution_count": 7,
   "id": "86cdf482-6679-44d8-95d0-e356af0e2941",
   "metadata": {},
   "outputs": [],
   "source": [
    "#Mutable and immutable data types refer to whether the value of an object can be changed after it has been created.\n",
    "\n",
    "#Mutable: Objects whose value can be changed after creation are called mutable. In mutable objects, you can modify the object's contents without changing its identity. Examples of mutable data types in Python include lists, dictionaries, and sets."
   ]
  },
  {
   "cell_type": "code",
   "execution_count": 8,
   "id": "f6f1c8cc-5c19-42a8-bb01-bd3277eda5f4",
   "metadata": {},
   "outputs": [
    {
     "name": "stdout",
     "output_type": "stream",
     "text": [
      "Original list: [1, 2, 3, 4]\n"
     ]
    }
   ],
   "source": [
    "my_list = [1, 2, 3, 4]\n",
    "print(\"Original list:\", my_list)"
   ]
  },
  {
   "cell_type": "code",
   "execution_count": 9,
   "id": "e65e196e-7f8a-48cd-8e51-016c4de94e05",
   "metadata": {},
   "outputs": [
    {
     "name": "stdout",
     "output_type": "stream",
     "text": [
      "Modified list: [5, 2, 3, 4]\n"
     ]
    }
   ],
   "source": [
    "my_list[0] = 5\n",
    "print(\"Modified list:\", my_list)"
   ]
  },
  {
   "cell_type": "code",
   "execution_count": null,
   "id": "0e42bdf4-9636-45f7-8aea-6589ada81fba",
   "metadata": {},
   "outputs": [],
   "source": []
  }
 ],
 "metadata": {
  "kernelspec": {
   "display_name": "Python 3 (ipykernel)",
   "language": "python",
   "name": "python3"
  },
  "language_info": {
   "codemirror_mode": {
    "name": "ipython",
    "version": 3
   },
   "file_extension": ".py",
   "mimetype": "text/x-python",
   "name": "python",
   "nbconvert_exporter": "python",
   "pygments_lexer": "ipython3",
   "version": "3.10.8"
  }
 },
 "nbformat": 4,
 "nbformat_minor": 5
}
